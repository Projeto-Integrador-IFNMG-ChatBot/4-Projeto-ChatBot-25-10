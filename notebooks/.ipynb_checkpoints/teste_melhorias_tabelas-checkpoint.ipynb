{
 "cells": [
  {
   "cell_type": "code",
   "execution_count": 1,
   "id": "9ccbe0b4-b96a-4f30-8844-f50332ce3afe",
   "metadata": {},
   "outputs": [],
   "source": [
    "import sys\n",
    "import os\n",
    "import pandas as pd # Essencial para criar e manipular os DataFrames\n",
    "\n",
    "# Adiciona o diretório raiz ao path para encontrar a pasta 'src'\n",
    "sys.path.append('..')"
   ]
  },
  {
   "cell_type": "code",
   "execution_count": 2,
   "id": "443851d4-a2fd-4ea0-b06b-06cd4549bfbc",
   "metadata": {},
   "outputs": [],
   "source": [
    "from src.table_extractor import extract_raw_dataframe\n",
    "from src.table_enhancer import enhance_table"
   ]
  },
  {
   "cell_type": "code",
   "execution_count": 3,
   "id": "882ad009-6f63-481e-9a87-df90e308d205",
   "metadata": {},
   "outputs": [],
   "source": [
    "# --- 2. DEFINIÇÃO DAS ENTRADAS DE TESTE (HARDCODED) ---\n",
    "# Escolha um PDF e uma página específicos para o teste.\n",
    "# Isso torna o teste repetível e fácil de depurar.\n",
    "pdf_de_teste = '../data/input/Calendário Acadêmico pós greve veteranos.pdf' # Use o nome exato de um de seus arquivos\n",
    "pagina_de_teste = 2 # Escolha uma página que VOCÊ SABE que tem uma tabela"
   ]
  },
  {
   "cell_type": "code",
   "execution_count": 4,
   "id": "615ac93c-a13e-41f8-98ea-59d1508a3a3b",
   "metadata": {},
   "outputs": [
    {
     "name": "stdout",
     "output_type": "stream",
     "text": [
      "\n",
      "--- PASSO 1: Extraindo tabela bruta... ---\n"
     ]
    },
    {
     "ename": "NameError",
     "evalue": "name 'extract_table_and_legend' is not defined",
     "output_type": "error",
     "traceback": [
      "\u001b[31m---------------------------------------------------------------------------\u001b[39m",
      "\u001b[31mNameError\u001b[39m                                 Traceback (most recent call last)",
      "\u001b[36mCell\u001b[39m\u001b[36m \u001b[39m\u001b[32mIn[4]\u001b[39m\u001b[32m, line 5\u001b[39m\n\u001b[32m      3\u001b[39m \u001b[38;5;28mprint\u001b[39m(\u001b[33m\"\u001b[39m\u001b[38;5;130;01m\\n\u001b[39;00m\u001b[33m--- PASSO 1: Extraindo tabela bruta... ---\u001b[39m\u001b[33m\"\u001b[39m)\n\u001b[32m      4\u001b[39m \u001b[38;5;66;03m# Chama a primeira função para extrair os dados brutos\u001b[39;00m\n\u001b[32m----> \u001b[39m\u001b[32m5\u001b[39m table_info_raw = \u001b[43mextract_table_and_legend\u001b[49m(pdf_path=pdf_de_teste, page=pagina_de_teste)\n\u001b[32m      7\u001b[39m \u001b[38;5;66;03m# 💡 PONTO DE INSPEÇÃO CRUCIAL 💡\u001b[39;00m\n\u001b[32m      8\u001b[39m \u001b[38;5;66;03m# Vamos verificar o que foi retornado ANTES de prosseguir.\u001b[39;00m\n\u001b[32m      9\u001b[39m \u001b[38;5;28;01mif\u001b[39;00m table_info_raw:\n",
      "\u001b[31mNameError\u001b[39m: name 'extract_table_and_legend' is not defined"
     ]
    }
   ],
   "source": [
    "print(\"Ambiente de teste pronto com funções refatoradas.\")\n",
    "\n",
    "pdf_de_teste = '../data/input/Calendário Acadêmico pós greve veteranos.pdf'\n",
    "pagina_de_teste = 2\n",
    "\n",
    "print(f\"\\nArquivo: {os.path.basename(pdf_de_teste)}, Página: {pagina_de_teste}\")\n",
    "\n",
    "print(\"\\n--- PASSO 1: Extraindo DataFrame bruto... ---\")\n",
    "raw_df = extract_raw_dataframe(pdf_path=pdf_de_teste, page=pagina_de_teste)\n",
    "\n",
    "if not raw_df.empty:\n",
    "    print(\"✅ Sucesso! DataFrame bruto extraído. Veja abaixo:\")\n",
    "    display(raw_df)\n",
    "    \n",
    "    print(\"\\n--- PASSO 2: Aprimorando a tabela... ---\")\n",
    "    enhanced_table_info = enhance_table(raw_df)\n",
    "    \n",
    "    if enhanced_table_info:\n",
    "        print(\"✅ Sucesso! Tabela aprimorada.\")\n",
    "        print(\"\\n--- RESULTADO FINAL ---\")\n",
    "        \n",
    "        print(\"\\n[Legenda Separada]\")\n",
    "        print(enhanced_table_info.get('legend'))\n",
    "        \n",
    "        print(\"\\n[Tabela Limpa]\")\n",
    "        display(pd.DataFrame(enhanced_table_info.get(\"cleaned_table\")))\n",
    "        \n",
    "        print(\"\\n[Resumo Gerado]\")\n",
    "        print(enhanced_table_info.get(\"summary\"))\n",
    "    else:\n",
    "        print(\"❌ Falha: O aprimoramento não retornou resultados.\")\n",
    "else:\n",
    "    print(\"❌ Falha: Nenhuma tabela bruta foi extraída da página.\")"
   ]
  },
  {
   "cell_type": "code",
   "execution_count": null,
   "id": "3ec9260a-1cd5-4733-a630-baa9b3e4facb",
   "metadata": {},
   "outputs": [],
   "source": []
  }
 ],
 "metadata": {
  "kernelspec": {
   "display_name": "Python 3 (ipykernel)",
   "language": "python",
   "name": "python3"
  },
  "language_info": {
   "codemirror_mode": {
    "name": "ipython",
    "version": 3
   },
   "file_extension": ".py",
   "mimetype": "text/x-python",
   "name": "python",
   "nbconvert_exporter": "python",
   "pygments_lexer": "ipython3",
   "version": "3.13.5"
  }
 },
 "nbformat": 4,
 "nbformat_minor": 5
}

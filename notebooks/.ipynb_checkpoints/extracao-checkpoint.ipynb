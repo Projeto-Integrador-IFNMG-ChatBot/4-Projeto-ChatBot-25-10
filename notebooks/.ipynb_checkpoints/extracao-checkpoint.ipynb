{
 "cells": [
  {
   "cell_type": "code",
   "execution_count": 9,
   "id": "8e84332a",
   "metadata": {},
   "outputs": [],
   "source": [
    "import sys\n",
    "import os\n",
    "sys.path.append(os.path.abspath(\"..\"))   # sobe um nível"
   ]
  },
  {
   "cell_type": "code",
   "execution_count": 12,
   "id": "73086362",
   "metadata": {},
   "outputs": [
    {
     "name": "stdout",
     "output_type": "stream",
     "text": [
      "Collecting PyPDF2 (from -r ../requirements.txt (line 1))\n",
      "  Downloading pypdf2-3.0.1-py3-none-any.whl.metadata (6.8 kB)\n",
      "Downloading pypdf2-3.0.1-py3-none-any.whl (232 kB)\n",
      "Installing collected packages: PyPDF2\n",
      "Successfully installed PyPDF2-3.0.1\n"
     ]
    }
   ],
   "source": [
    "!pip install -r ../requirements.txt"
   ]
  },
  {
   "cell_type": "code",
   "execution_count": null,
   "id": "1658f967",
   "metadata": {},
   "outputs": [
    {
     "name": "stdout",
     "output_type": "stream",
     "text": [
      "Página 1:\n",
      "Projeto Pedagógico do Curso Bacharelado Em Ciência Da Computação Versão do documento: 3.0 Resolução de Implantação Portaria Nº 521 -Reitor/2012 Resolução de Reestruturação Resolução CEPE Nº 35/2019, M \n",
      "---\n",
      "Página 2:\n",
      "MINISTÉRIO DA EDUCAÇÃO SECRETARIA DE EDUCAÇÃO PROFISSIONAL E TECNOLÓGICA INSTITUTO FEDERAL DO NORTE DE MINAS GERAIS CAMPUS MONTES CLAROS Página 2 de 103 Presidente da República JAIR MESSIAS BOLSONARO  \n",
      "---\n",
      "Página 3:\n",
      "MINISTÉRIO DA EDUCAÇÃO SECRETARIA DE EDUCAÇÃO PROFISSIONAL E TECNOLÓGICA INSTITUTO FEDERAL DO NORTE DE MINAS GERAIS CAMPUS MONTES CLAROS Página 3 de 103 Diretor Geral - Campus Montes Claros Prof. RENA \n",
      "---\n"
     ]
    }
   ],
   "source": [
    "# Importar a função\n",
    "from src.extract_raw import extract_raw\n",
    "\n",
    "# Caminho para PDF de teste\n",
    "pdf_path = \"../data/input/PPCBCC2019.pdf\"\n",
    "\n",
    "# Rodar a função\n",
    "pages = extract_raw(pdf_path, \"PPCBCC2019\")\n",
    "\n",
    "# Mostrar primeiras páginas\n",
    "for p in pages[:3]:\n",
    "    print(f\"Página {p['page']}:\")\n",
    "    print(p[\"raw_text\"][:200], \"\\n---\")"
   ]
  }
 ],
 "metadata": {
  "kernelspec": {
   "display_name": "Python 3",
   "language": "python",
   "name": "python3"
  },
  "language_info": {
   "codemirror_mode": {
    "name": "ipython",
    "version": 3
   },
   "file_extension": ".py",
   "mimetype": "text/x-python",
   "name": "python",
   "nbconvert_exporter": "python",
   "pygments_lexer": "ipython3",
   "version": "3.12.2"
  }
 },
 "nbformat": 4,
 "nbformat_minor": 5
}
